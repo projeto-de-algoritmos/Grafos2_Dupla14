{
 "cells": [
  {
   "cell_type": "code",
   "execution_count": 110,
   "id": "89ab2f09",
   "metadata": {},
   "outputs": [
    {
     "name": "stdout",
     "output_type": "stream",
     "text": [
      "2\n"
     ]
    }
   ],
   "source": [
    "times = [[2,1,1],[2,3,1],[3,4,1]]\n",
    "n = 4\n",
    "k = 2\n",
    "import heapq\n",
    "from collections import defaultdict\n",
    "from queue import PriorityQueue\n",
    "#Cria um grafo com defaultdict\n",
    "grafo = defaultdict(list)\n",
    "#Itera no vetor times, inserindo as arestas de cada um dos nós\n",
    "for u,v,dis in times:\n",
    "    grafo[u].append((v,dis))\n",
    "#Cria o visitados\n",
    "visited = set()\n",
    "        \n",
    "heaP = [(0, k)]\n",
    "distancia = {dist: float('inf') for dist in range(1, n+1)}\n",
    "distancia[k] = 0\n",
    "\n",
    "while heaP:\n",
    "    cTime,cNode = heapq.heappop(heaP) \n",
    "    if cNode not in visited:\n",
    "        visited.add(cNode)\n",
    "    for nA,tA in grafo[cNode]:\n",
    "        if(distancia[nA] > (cTime+tA)):\n",
    "            distancia[nA] = cTime+tA\n",
    "            heapq.heappush(heaP,(distancia[nA],nA))\n",
    "if len(visited) == n:\n",
    "    print(max(distancia.values()))  \n",
    "else:\n",
    "    print(-1) \n",
    "\n",
    "\n",
    "        "
   ]
  },
  {
   "cell_type": "code",
   "execution_count": null,
   "id": "1c504f02",
   "metadata": {},
   "outputs": [],
   "source": []
  },
  {
   "cell_type": "code",
   "execution_count": null,
   "id": "5efdbb90",
   "metadata": {},
   "outputs": [],
   "source": []
  },
  {
   "cell_type": "code",
   "execution_count": null,
   "id": "78cd0d20",
   "metadata": {},
   "outputs": [],
   "source": []
  },
  {
   "cell_type": "code",
   "execution_count": null,
   "id": "256632bb",
   "metadata": {},
   "outputs": [],
   "source": []
  },
  {
   "cell_type": "code",
   "execution_count": null,
   "id": "2add010b",
   "metadata": {},
   "outputs": [],
   "source": []
  },
  {
   "cell_type": "code",
   "execution_count": null,
   "id": "2ccda842",
   "metadata": {},
   "outputs": [],
   "source": []
  }
 ],
 "metadata": {
  "kernelspec": {
   "display_name": "Python 3 (ipykernel)",
   "language": "python",
   "name": "python3"
  },
  "language_info": {
   "codemirror_mode": {
    "name": "ipython",
    "version": 3
   },
   "file_extension": ".py",
   "mimetype": "text/x-python",
   "name": "python",
   "nbconvert_exporter": "python",
   "pygments_lexer": "ipython3",
   "version": "3.10.5"
  }
 },
 "nbformat": 4,
 "nbformat_minor": 5
}
