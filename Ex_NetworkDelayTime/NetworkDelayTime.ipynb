{
 "cells": [
  {
   "cell_type": "code",
   "execution_count": 92,
   "id": "cc903c26",
   "metadata": {},
   "outputs": [
    {
     "name": "stdout",
     "output_type": "stream",
     "text": [
      "-1\n"
     ]
    }
   ],
   "source": [
    "times = [[1,2,1]]\n",
    "n = 2\n",
    "k = 2\n",
    "\n",
    "from queue import PriorityQueue\n",
    "\n",
    "pq = PriorityQueue()\n",
    "visited = [0]*(n+1)\n",
    "custo = 0\n",
    "if(k > len(times)+1):\n",
    "    pq.put(times[k])\n",
    "    visited[k] =1\n",
    "pq.put(times[0])\n",
    "visited[0] =1\n",
    "\n",
    "if(k <= len(times)):\n",
    "\n",
    "    while(pq.empty() == 0):\n",
    "        tE = pq.get()\n",
    "        n1 = tE[0]\n",
    "        n2 = tE[1]\n",
    "        weight = tE[2]\n",
    "\n",
    "        if(visited[n2]):\n",
    "            continue\n",
    "        visited[n2] = 1\n",
    "        custo = custo + weight\n",
    "\n",
    "        for i in range(0,len(times)):\n",
    "            if(visited[i] == 0):\n",
    "                pq.put(times[i])\n",
    "    print(custo)\n",
    "    \n",
    "else:\n",
    "    print(\"-1\")\n",
    "    "
   ]
  },
  {
   "cell_type": "code",
   "execution_count": null,
   "id": "962f71cc",
   "metadata": {},
   "outputs": [],
   "source": []
  },
  {
   "cell_type": "code",
   "execution_count": null,
   "id": "b38530b3",
   "metadata": {},
   "outputs": [],
   "source": []
  },
  {
   "cell_type": "code",
   "execution_count": null,
   "id": "48894e26",
   "metadata": {},
   "outputs": [],
   "source": []
  },
  {
   "cell_type": "code",
   "execution_count": null,
   "id": "676db248",
   "metadata": {},
   "outputs": [],
   "source": []
  },
  {
   "cell_type": "code",
   "execution_count": null,
   "id": "0be1b4ed",
   "metadata": {},
   "outputs": [],
   "source": []
  },
  {
   "cell_type": "code",
   "execution_count": null,
   "id": "9ce84d30",
   "metadata": {},
   "outputs": [],
   "source": []
  }
 ],
 "metadata": {
  "kernelspec": {
   "display_name": "Python 3 (ipykernel)",
   "language": "python",
   "name": "python3"
  },
  "language_info": {
   "codemirror_mode": {
    "name": "ipython",
    "version": 3
   },
   "file_extension": ".py",
   "mimetype": "text/x-python",
   "name": "python",
   "nbconvert_exporter": "python",
   "pygments_lexer": "ipython3",
   "version": "3.10.5"
  }
 },
 "nbformat": 4,
 "nbformat_minor": 5
}
