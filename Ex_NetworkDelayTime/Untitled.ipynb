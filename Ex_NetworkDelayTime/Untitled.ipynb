{
 "cells": [
  {
   "cell_type": "code",
   "execution_count": 2,
   "id": "7f8e2d14",
   "metadata": {},
   "outputs": [
    {
     "ename": "NameError",
     "evalue": "name 'times' is not defined",
     "output_type": "error",
     "traceback": [
      "\u001b[0;31m---------------------------------------------------------------------------\u001b[0m",
      "\u001b[0;31mNameError\u001b[0m                                 Traceback (most recent call last)",
      "Cell \u001b[0;32mIn[2], line 6\u001b[0m\n\u001b[1;32m      4\u001b[0m grafo \u001b[38;5;241m=\u001b[39m defaultdict(\u001b[38;5;28mlist\u001b[39m)\n\u001b[1;32m      5\u001b[0m \u001b[38;5;66;03m#Itera no vetor times, inserindo as arestas de cada um dos nós\u001b[39;00m\n\u001b[0;32m----> 6\u001b[0m \u001b[38;5;28;01mfor\u001b[39;00m u,v,dis \u001b[38;5;129;01min\u001b[39;00m \u001b[43mtimes\u001b[49m:\n\u001b[1;32m      7\u001b[0m     grafo[u]\u001b[38;5;241m.\u001b[39mappend((v,dis))\n\u001b[1;32m      8\u001b[0m \u001b[38;5;66;03m#Cria o visitados\u001b[39;00m\n",
      "\u001b[0;31mNameError\u001b[0m: name 'times' is not defined"
     ]
    }
   ],
   "source": [
    "times = [[2,1,1],[2,3,1],[3,4,1]]\n",
    "n = 2\n",
    "t = 4\n",
    "        from collections import defaultdict\n",
    "        from queue import PriorityQueue\n",
    "        #Cria um grafo com defaultdict\n",
    "        grafo = defaultdict(list)\n",
    "        #Itera no vetor times, inserindo as arestas de cada um dos nós\n",
    "        for u,v,dis in times:\n",
    "            grafo[u].append((v,dis))\n",
    "        #Cria o visitados\n",
    "        visited = set()\n",
    "        \n",
    "        heap = [(0,k)]\n",
    "        distancia = {dist: float('inf') for i in range(1, n+1)}\n",
    "        distancia[k] = 0\n",
    "\n",
    "        while heap:\n",
    "            cTime,cNode = heapq.heappop(heap) \n",
    "            if cNode not in visited:\n",
    "                visited.add(cNode)\n",
    "            for nA,tA in grafo[cNode]:\n",
    "                if(distancia[nA] > (cTime+tA)):\n",
    "                    distancia[nA] = cTime+tA\n",
    "                    heappq.heappush(heap,(distancia[nA],nA))\n",
    "        if len(visited) == n:\n",
    "            return max(distancia.values())  \n",
    "        else:\n",
    "            return -1\n",
    "\n",
    "\n",
    "        "
   ]
  },
  {
   "cell_type": "code",
   "execution_count": null,
   "id": "1c0d5600",
   "metadata": {},
   "outputs": [],
   "source": []
  }
 ],
 "metadata": {
  "kernelspec": {
   "display_name": "Python 3 (ipykernel)",
   "language": "python",
   "name": "python3"
  },
  "language_info": {
   "codemirror_mode": {
    "name": "ipython",
    "version": 3
   },
   "file_extension": ".py",
   "mimetype": "text/x-python",
   "name": "python",
   "nbconvert_exporter": "python",
   "pygments_lexer": "ipython3",
   "version": "3.10.5"
  }
 },
 "nbformat": 4,
 "nbformat_minor": 5
}
