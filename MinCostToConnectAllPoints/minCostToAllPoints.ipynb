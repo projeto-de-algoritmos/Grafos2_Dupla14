{
 "cells": [
  {
   "cell_type": "code",
   "execution_count": 103,
   "id": "8a99caa0",
   "metadata": {},
   "outputs": [
    {
     "name": "stdout",
     "output_type": "stream",
     "text": [
      "18\n"
     ]
    }
   ],
   "source": [
    "from queue import PriorityQueue\n",
    "\n",
    "\n",
    "#CASO DE TESTE 1 (DESCOMENTAR)\n",
    "\n",
    "#points = [[0,0],[2,2],[3,10],[5,2],[7,0]]\n",
    "\n",
    "#CASO DE TESTE 2 (DESCOMENTAR)\n",
    "#points = [[3,12],[-2,5],[-4,1]]\n",
    "\n",
    "\n",
    "\n",
    "pq = PriorityQueue()\n",
    "\n",
    "n = len(points)\n",
    "custo = 0\n",
    "visited = [0]*n\n",
    "pq.put((-0,0))\n",
    "\n",
    "\n",
    "\n",
    "while(pq.empty() == 0):\n",
    "    tE = pq.get()\n",
    "    weight = tE[0]\n",
    "    currNode = tE[1]\n",
    "    \n",
    "    if(visited[currNode]):\n",
    "        continue\n",
    "    visited[currNode] = 1\n",
    "    custo = custo + (weight)\n",
    "    \n",
    "    for i in range(n):\n",
    "        if(visited[i] == 0):\n",
    "            nextWeight = abs(points[currNode][0] - points[i][0]) + abs(points[currNode][1] - points[i][1])\n",
    "            pq.put((nextWeight,i))\n",
    "                        \n",
    "print(custo)\n",
    "    \n",
    "\n",
    "\n",
    "    \n",
    "\n",
    "\n",
    "\n",
    "\n",
    "\n",
    "\n",
    "\n"
   ]
  },
  {
   "cell_type": "code",
   "execution_count": null,
   "id": "119f1d14",
   "metadata": {},
   "outputs": [],
   "source": []
  },
  {
   "cell_type": "code",
   "execution_count": null,
   "id": "7563353f",
   "metadata": {},
   "outputs": [],
   "source": []
  },
  {
   "cell_type": "code",
   "execution_count": null,
   "id": "d05b0e8e",
   "metadata": {},
   "outputs": [],
   "source": []
  }
 ],
 "metadata": {
  "kernelspec": {
   "display_name": "Python 3 (ipykernel)",
   "language": "python",
   "name": "python3"
  },
  "language_info": {
   "codemirror_mode": {
    "name": "ipython",
    "version": 3
   },
   "file_extension": ".py",
   "mimetype": "text/x-python",
   "name": "python",
   "nbconvert_exporter": "python",
   "pygments_lexer": "ipython3",
   "version": "3.10.5"
  }
 },
 "nbformat": 4,
 "nbformat_minor": 5
}
